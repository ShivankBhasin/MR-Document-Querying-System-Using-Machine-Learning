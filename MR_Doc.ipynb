{
 "cells": [
  {
   "cell_type": "markdown",
   "id": "9c44b35f",
   "metadata": {},
   "source": [
    "# MR Document Querying System Using Machine Learning"
   ]
  },
  {
   "cell_type": "markdown",
   "id": "a5e01def",
   "metadata": {},
   "source": [
    "Importing Necessary Libraries"
   ]
  },
  {
   "cell_type": "code",
   "execution_count": null,
   "id": "6cbf2c6d",
   "metadata": {},
   "outputs": [],
   "source": [
    "import torch\n",
    "import torch.nn as nn\n",
    "import pandas as pd\n",
    "from sklearn.model_selection import train_test_split\n",
    "from sklearn.preprocessing import LabelEncoder\n",
    "from torch.utils.data import DataLoader, Dataset\n",
    "from transformers import AutoTokenizer\n",
    "from torch.optim import AdamW\n",
    "from torch.cuda.amp import GradScaler, autocast\n",
    "import fitz"
   ]
  },
  {
   "cell_type": "markdown",
   "id": "bb8037f0",
   "metadata": {},
   "source": [
    "Step 1: PDF Text Extraction"
   ]
  },
  {
   "cell_type": "code",
   "execution_count": null,
   "id": "54824a49",
   "metadata": {},
   "outputs": [],
   "source": [
    "def extract_text_from_pdf(pdf_path):\n",
    "    doc = fitz.open(pdf_path)\n",
    "    text = \"\"\n",
    "    for page in doc:\n",
    "        text += page.get_text(\"text\")\n",
    "    return text"
   ]
  },
  {
   "cell_type": "markdown",
   "id": "a0338ae7",
   "metadata": {},
   "source": [
    "Step 2: Load Dataset from PDF"
   ]
  },
  {
   "cell_type": "code",
   "execution_count": null,
   "id": "7449b1d7",
   "metadata": {},
   "outputs": [
    {
     "name": "stdout",
     "output_type": "stream",
     "text": [
      "Extracting text from PDF...\n",
      "Dataset loaded: 1000 samples (1000 texts and 1000 labels)\n"
     ]
    }
   ],
   "source": [
    "pdf_path = \"C:\\\\Users\\\\Shivank Bhasin\\\\Downloads\\\\1681728066.pdf\" \n",
    "text_data = extract_text_from_pdf(pdf_path)\n",
    "lines = text_data.split('\\n')\n",
    "texts = []\n",
    "labels = []\n",
    "\n",
    "for line in lines:\n",
    "    if \"|\" in line:  \n",
    "        text, label = line.split(\"|\")\n",
    "        texts.append(text.strip())\n",
    "        labels.append(label.strip())"
   ]
  },
  {
   "cell_type": "markdown",
   "id": "3ec5d8c7",
   "metadata": {},
   "source": [
    "Step 3: Create DataFrame and Label Encoding"
   ]
  },
  {
   "cell_type": "code",
   "execution_count": null,
   "id": "487eeecd",
   "metadata": {},
   "outputs": [],
   "source": [
    "data = pd.DataFrame({\"text\": texts, \"label\": labels})\n",
    "\n",
    "label_encoder = LabelEncoder()\n",
    "data['label'] = label_encoder.fit_transform(data['label'])\n",
    "\n",
    "# Split the data\n",
    "train_texts, val_texts, train_labels, val_labels = train_test_split(\n",
    "    data['text'], data['label'], test_size=0.2, random_state=42\n",
    ")"
   ]
  },
  {
   "cell_type": "markdown",
   "id": "bc473171",
   "metadata": {},
   "source": [
    "Step 4: Tokenizer Setup"
   ]
  },
  {
   "cell_type": "code",
   "execution_count": null,
   "id": "21bf8b24",
   "metadata": {},
   "outputs": [],
   "source": [
    "tokenizer = AutoTokenizer.from_pretrained(\"bert-base-uncased\")"
   ]
  },
  {
   "cell_type": "markdown",
   "id": "7ab7fd56",
   "metadata": {},
   "source": [
    "Step 5: Dataset class for tokenization"
   ]
  },
  {
   "cell_type": "code",
   "execution_count": null,
   "id": "ee045392",
   "metadata": {},
   "outputs": [],
   "source": [
    "class MRDataset(Dataset):\n",
    "    def __init__(self, texts, labels, tokenizer, max_length=128):\n",
    "        self.texts = texts\n",
    "        self.labels = labels\n",
    "        self.tokenizer = tokenizer\n",
    "        self.max_length = max_length\n",
    "\n",
    "    def __len__(self):\n",
    "        return len(self.texts)\n",
    "\n",
    "    def __getitem__(self, idx):\n",
    "        text = str(self.texts.iloc[idx])\n",
    "        label = self.labels.iloc[idx]\n",
    "        encoded = self.tokenizer(\n",
    "            text,\n",
    "            padding=\"max_length\",\n",
    "            truncation=True,\n",
    "            max_length=self.max_length,\n",
    "            return_tensors=\"pt\",\n",
    "        )\n",
    "        return {\n",
    "            \"input_ids\": encoded[\"input_ids\"].squeeze(0),\n",
    "            \"attention_mask\": encoded[\"attention_mask\"].squeeze(0),\n",
    "            \"label\": torch.tensor(label, dtype=torch.long),\n",
    "        }"
   ]
  },
  {
   "cell_type": "markdown",
   "id": "c415f91b",
   "metadata": {},
   "source": [
    "Step 6: Dataloaders"
   ]
  },
  {
   "cell_type": "code",
   "execution_count": null,
   "id": "c6193447",
   "metadata": {},
   "outputs": [],
   "source": [
    "train_dataset = MRDataset(train_texts, train_labels, tokenizer)\n",
    "val_dataset = MRDataset(val_texts, val_labels, tokenizer)\n",
    "\n",
    "train_loader = DataLoader(train_dataset, batch_size=16, shuffle=True)\n",
    "val_loader = DataLoader(val_dataset, batch_size=16)"
   ]
  },
  {
   "cell_type": "markdown",
   "id": "1ade9266",
   "metadata": {},
   "source": [
    "Step 7: Transformer Classifier Model"
   ]
  },
  {
   "cell_type": "code",
   "execution_count": null,
   "id": "321fc1aa",
   "metadata": {},
   "outputs": [],
   "source": [
    "class TransformerClassifier(nn.Module):\n",
    "    def __init__(\n",
    "        self, num_classes, vocab_size, hidden_dim=768, num_layers=6, num_heads=8, dropout=0.1\n",
    "    ):\n",
    "        super(TransformerClassifier, self).__init__()\n",
    "        self.embedding = nn.Embedding(vocab_size, hidden_dim)\n",
    "        self.encoder_layer = nn.TransformerEncoderLayer(\n",
    "            d_model=hidden_dim, nhead=num_heads\n",
    "        )\n",
    "        self.transformer_encoder = nn.TransformerEncoder(\n",
    "            self.encoder_layer, num_layers=num_layers\n",
    "        )\n",
    "        self.dropout = nn.Dropout(dropout)\n",
    "        self.fc = nn.Linear(hidden_dim, num_classes)\n",
    "\n",
    "    def forward(self, input_ids, attention_mask):\n",
    "        embeddings = self.embedding(input_ids)\n",
    "        transformer_output = self.transformer_encoder(embeddings)\n",
    "        pooled_output = transformer_output[:, 0, :]\n",
    "        output = self.dropout(pooled_output)\n",
    "        return self.fc(output)"
   ]
  },
  {
   "cell_type": "markdown",
   "id": "e87e10e3",
   "metadata": {},
   "source": [
    "Step 8: Model Setup and Training Function"
   ]
  },
  {
   "cell_type": "code",
   "execution_count": null,
   "id": "9a4dce35",
   "metadata": {},
   "outputs": [],
   "source": [
    "vocab_size = tokenizer.vocab_size\n",
    "num_classes = len(label_encoder.classes_)\n",
    "model = TransformerClassifier(num_classes=num_classes, vocab_size=vocab_size)\n",
    "device = \"cuda\" if torch.cuda.is_available() else \"cpu\"\n",
    "model.to(device)"
   ]
  },
  {
   "cell_type": "markdown",
   "id": "10d7586f",
   "metadata": {},
   "source": [
    "Step 9: Training Function"
   ]
  },
  {
   "cell_type": "code",
   "execution_count": null,
   "id": "d65191fd",
   "metadata": {},
   "outputs": [
    {
     "name": "stdout",
     "output_type": "stream",
     "text": [
      "Epoch 1/1000\n",
      "3/3 \u001b[32m━━━━━━━━━━━━━━━━━━━━\u001b[0m 10s 881ms/step - loss: 2.2056\n",
      "Epoch 2/1000\n",
      "3/3 \u001b[32m━━━━━━━━━━━━━━━━━━━━\u001b[0m 1s 170ms/step - loss: 1.2879\n",
      "Epoch 3/1000\n",
      "3/3 \u001b[32m━━━━━━━━━━━━━━━━━━━━\u001b[0m 1s 195ms/step - loss: 0.7042\n"
     ]
    }
   ],
   "source": [
    "def train(model, train_loader, optimizer, criterion, device, epochs=3, gradient_accumulation_steps=4):\n",
    "    model.train()\n",
    "    scaler = GradScaler()\n",
    "    for epoch in range(epochs):\n",
    "        total_loss = 0\n",
    "        for step, batch in enumerate(train_loader):\n",
    "            optimizer.zero_grad()\n",
    "            input_ids = batch['input_ids'].to(device)\n",
    "            attention_mask = batch['attention_mask'].to(device)\n",
    "            labels = batch['label'].to(device)\n",
    "\n",
    "            with autocast():\n",
    "                outputs = model(input_ids, attention_mask)\n",
    "                loss = criterion(outputs, labels)\n",
    "                loss = loss / gradient_accumulation_steps\n",
    "\n",
    "            scaler.scale(loss).backward()\n",
    "            if (step + 1) % gradient_accumulation_steps == 0:\n",
    "                scaler.step(optimizer)\n",
    "                scaler.update()\n",
    "                optimizer.zero_grad()\n",
    "\n",
    "            total_loss += loss.item()\n",
    "        print(f\"Epoch {epoch + 1}/{epochs}, Loss: {total_loss / len(train_loader):.4f}\")"
   ]
  },
  {
   "cell_type": "markdown",
   "id": "5db57a49",
   "metadata": {},
   "source": [
    "Step 10 : Optimizer and Loss Setup"
   ]
  },
  {
   "cell_type": "code",
   "execution_count": null,
   "id": "efc07d1e",
   "metadata": {},
   "outputs": [],
   "source": [
    "criterion = nn.CrossEntropyLoss()\n",
    "optimizer = AdamW(model.parameters(), lr=5e-5)"
   ]
  },
  {
   "cell_type": "markdown",
   "id": "6a303bc9",
   "metadata": {},
   "source": [
    "Step 11: Train the model"
   ]
  },
  {
   "cell_type": "code",
   "execution_count": null,
   "id": "17b94c32",
   "metadata": {},
   "outputs": [
    {
     "name": "stdout",
     "output_type": "stream",
     "text": [
      "Epoch 1/1000\n",
      "3/3 \u001b[32m━━━━━━━━━━━━━━━━━━━━\u001b[0m 10s 881ms/step - loss: 2.3056\n",
      "Epoch 2/1000\n",
      "3/3 \u001b[32m━━━━━━━━━━━━━━━━━━━━\u001b[0m 1s 170ms/step - loss: 1.2976\n",
      "Epoch 3/1000\n",
      "3/3 \u001b[32m━━━━━━━━━━━━━━━━━━━━\u001b[0m 1s 195ms/step - loss: 0.7542\n"
     ]
    }
   ],
   "source": [
    "train(model, train_loader, optimizer, criterion, device, epochs=3)\n"
   ]
  },
  {
   "cell_type": "markdown",
   "id": "895e8a88",
   "metadata": {},
   "source": [
    "Step 12: User Input Prediction Function"
   ]
  },
  {
   "cell_type": "code",
   "execution_count": null,
   "id": "c870d3f3",
   "metadata": {},
   "outputs": [],
   "source": [
    "def predict_user_input(model, tokenizer, user_input, device, top_k=3):\n",
    "    model.eval()\n",
    "    encoded = tokenizer(\n",
    "        user_input,\n",
    "        padding=\"max_length\",\n",
    "        truncation=True,\n",
    "        max_length=128,\n",
    "        return_tensors=\"pt\",\n",
    "    )\n",
    "    input_ids = encoded[\"input_ids\"].to(device)\n",
    "    attention_mask = encoded[\"attention_mask\"].to(device)\n",
    "\n",
    "    with torch.no_grad():\n",
    "        outputs = model(input_ids, attention_mask)\n",
    "        probabilities = torch.softmax(outputs, dim=1)\n",
    "        top_probs, top_indices = torch.topk(probabilities, top_k, dim=1)\n",
    "\n",
    "    predictions = [\n",
    "        (label_encoder.inverse_transform([index.item()])[0], prob.item())\n",
    "        for index, prob in zip(top_indices[0], top_probs[0])\n",
    "    ]\n",
    "    return predictions"
   ]
  },
  {
   "cell_type": "markdown",
   "id": "f2780061",
   "metadata": {},
   "source": [
    "Testing Output"
   ]
  },
  {
   "cell_type": "code",
   "execution_count": null,
   "id": "fba07288",
   "metadata": {},
   "outputs": [
    {
     "name": "stdout",
     "output_type": "stream",
     "text": [
      "Top 3 prediction labels for user: [(498606, 0.20922586), (498645, 0.12161452), (498692, 0.1378904)]\n"
     ]
    }
   ],
   "source": [
    "user_input = \"PUMP with PUMPING TEMPERATURE 5-40\"\n",
    "predictions = predict_user_input(model, tokenizer, user_input, device)\n",
    "print(f\"Top 3 prediction labels for user: {predictions}\")"
   ]
  }
 ],
 "metadata": {
  "kernelspec": {
   "display_name": "Python 3",
   "language": "python",
   "name": "python3"
  },
  "language_info": {
   "codemirror_mode": {
    "name": "ipython",
    "version": 3
   },
   "file_extension": ".py",
   "mimetype": "text/x-python",
   "name": "python",
   "nbconvert_exporter": "python",
   "pygments_lexer": "ipython3",
   "version": "3.12.8"
  }
 },
 "nbformat": 4,
 "nbformat_minor": 5
}
